{
 "cells": [
  {
   "cell_type": "code",
   "execution_count": 1,
   "metadata": {},
   "outputs": [],
   "source": [
    "import sys\n",
    "sys.path.append('../src')\n",
    "from agent import Agent\n",
    "from conversation import run_conversation\n"
   ]
  },
  {
   "cell_type": "code",
   "execution_count": 2,
   "metadata": {},
   "outputs": [
    {
     "name": "stdout",
     "output_type": "stream",
     "text": [
      "Round 1\n",
      "Round 2\n",
      "Round 3\n",
      "Round 4\n",
      "Round 5\n"
     ]
    }
   ],
   "source": [
    "\n",
    "temp_converesation = [\n",
    "    {\"role\": \"user\", \"content\": \"Hello, I would like to book a table for two.\"},\n",
    "]\n",
    "\n",
    "agent1 = Agent()\n",
    "agent1.load_system_message(\"# Background: Two people, you and another person, met at church. \\n # Persona: You are very angry. The only emotion you have is anger.\")\n",
    "\n",
    "agent2 = Agent()\n",
    "agent2.load_system_message(\"# Background: Two people, you and another person, met at church.\")\n",
    "\n",
    "conversation =  run_conversation([], agent1, agent2, n_rounds=5)\n"
   ]
  }
 ],
 "metadata": {
  "kernelspec": {
   "display_name": "advise_seeking",
   "language": "python",
   "name": "python3"
  },
  "language_info": {
   "codemirror_mode": {
    "name": "ipython",
    "version": 3
   },
   "file_extension": ".py",
   "mimetype": "text/x-python",
   "name": "python",
   "nbconvert_exporter": "python",
   "pygments_lexer": "ipython3",
   "version": "3.11.11"
  }
 },
 "nbformat": 4,
 "nbformat_minor": 2
}
